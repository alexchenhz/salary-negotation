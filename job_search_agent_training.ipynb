{
 "cells": [
  {
   "cell_type": "code",
   "execution_count": 10,
   "id": "f091c0d4",
   "metadata": {},
   "outputs": [],
   "source": [
    "import environment.job_search as job_search_env\n",
    "import argparse\n",
    "import os\n",
    "import random\n",
    "\n",
    "import ray\n",
    "from ray import air, tune\n",
    "from ray.tune.registry import register_env"
   ]
  },
  {
   "cell_type": "code",
   "execution_count": 9,
   "id": "c359e4c8",
   "metadata": {},
   "outputs": [],
   "source": [
    "from ray.rllib.env import PettingZooEnv"
   ]
  },
  {
   "cell_type": "code",
   "execution_count": 11,
   "id": "53182e77",
   "metadata": {},
   "outputs": [],
   "source": [
    "def env_creator(args):\n",
    "    env = job_search_env.env()\n",
    "    return env"
   ]
  },
  {
   "cell_type": "code",
   "execution_count": 13,
   "id": "c791842f",
   "metadata": {},
   "outputs": [],
   "source": [
    "register_env(\"JobSearch\", lambda config: PettingZooEnv(env_creator(config)))"
   ]
  },
  {
   "cell_type": "code",
   "execution_count": null,
   "id": "90515644",
   "metadata": {},
   "outputs": [],
   "source": []
  }
 ],
 "metadata": {
  "kernelspec": {
   "display_name": "Python 3 (ipykernel)",
   "language": "python",
   "name": "python3"
  },
  "language_info": {
   "codemirror_mode": {
    "name": "ipython",
    "version": 3
   },
   "file_extension": ".py",
   "mimetype": "text/x-python",
   "name": "python",
   "nbconvert_exporter": "python",
   "pygments_lexer": "ipython3",
   "version": "3.8.15+"
  }
 },
 "nbformat": 4,
 "nbformat_minor": 5
}
